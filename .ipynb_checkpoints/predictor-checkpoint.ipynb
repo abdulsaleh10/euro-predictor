{
 "cells": [
  {
   "cell_type": "code",
   "execution_count": null,
   "id": "20c95632",
   "metadata": {},
   "outputs": [],
   "source": [
    "import pandas as pd\n",
    "from xgboost import XGBClassifier\n",
    "from sklearn.model_selection import train_test_split, RandomizedSearchCV, cross_val_score\n",
    "from sklearn.metrics import accuracy_score, confusion_matrix, precision_score\n",
    "from imblearn.over_sampling import SMOTE"
   ]
  },
  {
   "cell_type": "code",
   "execution_count": null,
   "id": "9abb3e1e",
   "metadata": {},
   "outputs": [],
   "source": [
    "matches = pd.read_csv(\"matches.csv\", index_col=0)\n",
    "matches[\"date\"] = pd.to_datetime(matches[\"date\"])\n",
    "matches[\"venue_code\"] = matches[\"venue\"].astype(\"category\").cat.codes\n",
    "matches[\"opp_code\"] = matches[\"opponent\"].astype(\"category\").cat.codes"
   ]
  },
  {
   "cell_type": "code",
   "execution_count": null,
   "id": "bd839d3e",
   "metadata": {
    "lines_to_next_cell": 1
   },
   "outputs": [],
   "source": [
    "matches[\"match_importance\"] = matches[\"round\"].map({\n",
    "    \"Group stage\": 1,\n",
    "    \"Round of 16\": 2,\n",
    "    \"Quarter-finals\": 3,\n",
    "    \"Semi-finals\": 4,\n",
    "    \"Final\": 5\n",
    "})"
   ]
  },
  {
   "cell_type": "code",
   "execution_count": null,
   "id": "c8d8ead9",
   "metadata": {
    "lines_to_next_cell": 1
   },
   "outputs": [],
   "source": [
    "def get_team_experience(df):\n",
    "    round_counts = {}\n",
    "    for round_name in df[\"round\"].unique():\n",
    "        round_counts[f\"{round_name}_count\"] = df[df[\"round\"] == round_name].groupby(\"team\").size()\n",
    "    return pd.DataFrame(round_counts).reset_index().fillna(0)"
   ]
  },
  {
   "cell_type": "code",
   "execution_count": null,
   "id": "47d3af23",
   "metadata": {
    "lines_to_next_cell": 2
   },
   "outputs": [],
   "source": [
    "team_experience = get_team_experience(matches)\n",
    "matches = matches.merge(team_experience, on=\"team\", how=\"left\").fillna(0)"
   ]
  },
  {
   "cell_type": "code",
   "execution_count": null,
   "id": "5d2db09e",
   "metadata": {},
   "outputs": [],
   "source": [
    "cols = [\"gf\", \"ga\", \"xg\", \"xga\", \"poss\", \"sh\", \"sot\", \"dist\", \"pk\", \"pkatt\"]\n",
    "new_cols = [f\"{c}_rolling\" for c in cols]"
   ]
  },
  {
   "cell_type": "code",
   "execution_count": null,
   "id": "8c156c38",
   "metadata": {
    "lines_to_next_cell": 1
   },
   "outputs": [],
   "source": [
    "matches[['gf', 'ga']] = matches[['gf', 'ga']].replace('\\s*\\([^)]*\\)', '', regex=True)\n",
    "matches[cols] = matches[cols].apply(pd.to_numeric, errors='coerce')"
   ]
  },
  {
   "cell_type": "code",
   "execution_count": null,
   "id": "47a23763",
   "metadata": {
    "lines_to_next_cell": 1
   },
   "outputs": [],
   "source": [
    "def rolling_averages(group, cols, new_cols):\n",
    "    rolling_stats = group[cols].rolling(3, min_periods=1).mean()\n",
    "    group[new_cols] = rolling_stats\n",
    "    return group"
   ]
  },
  {
   "cell_type": "code",
   "execution_count": null,
   "id": "3716ff02",
   "metadata": {},
   "outputs": [],
   "source": [
    "matches = matches.groupby(\"team\", as_index=False, group_keys=False).apply(lambda x: rolling_averages(x, cols, new_cols)).reset_index(drop=True)\n",
    "matches = matches.dropna(subset=new_cols)"
   ]
  },
  {
   "cell_type": "code",
   "execution_count": null,
   "id": "569aafcb",
   "metadata": {
    "lines_to_next_cell": 1
   },
   "outputs": [],
   "source": [
    "matches[\"target\"] = (matches[\"result\"] == \"W\").astype(\"int\")"
   ]
  },
  {
   "cell_type": "code",
   "execution_count": null,
   "id": "5d8467a9",
   "metadata": {
    "lines_to_next_cell": 1
   },
   "outputs": [],
   "source": [
    "def add_head_to_head(df):\n",
    "    df['h2h_wins'] = 0\n",
    "    df['h2h_losses'] = 0\n",
    "    df['h2h_draws'] = 0\n",
    "    for index, row in df.iterrows():\n",
    "        team = row['team']\n",
    "        opponent = row['opponent']\n",
    "        past_matches = df[(df['team'] == team) & (df['opponent'] == opponent) & (df['date'] < row['date'])]\n",
    "        df.at[index, 'h2h_wins'] = sum(past_matches['result'] == 'W')\n",
    "        df.at[index, 'h2h_losses'] = sum(past_matches['result'] == 'L')\n",
    "        df.at[index, 'h2h_draws'] = sum(past_matches['result'] == 'D')\n",
    "    return df"
   ]
  },
  {
   "cell_type": "code",
   "execution_count": null,
   "id": "a6c3be43",
   "metadata": {
    "lines_to_next_cell": 1
   },
   "outputs": [],
   "source": [
    "matches = add_head_to_head(matches)"
   ]
  },
  {
   "cell_type": "code",
   "execution_count": null,
   "id": "7664133f",
   "metadata": {
    "lines_to_next_cell": 1
   },
   "outputs": [],
   "source": [
    "def calculate_streaks(df):\n",
    "    df = df.sort_values(by=['team', 'date'])\n",
    "    df['win_streak'] = df.groupby('team')['target'].apply(lambda x: x.rolling(window=3, min_periods=1).sum()).reset_index(drop=True)\n",
    "    df['loss_streak'] = df.groupby('team')['target'].apply(lambda x: (1 - x).rolling(window=3, min_periods=1).sum()).reset_index(drop=True)\n",
    "    return df"
   ]
  },
  {
   "cell_type": "code",
   "execution_count": null,
   "id": "2033d0a0",
   "metadata": {},
   "outputs": [],
   "source": [
    "matches = calculate_streaks(matches)"
   ]
  },
  {
   "cell_type": "code",
   "execution_count": null,
   "id": "a8c67ec7",
   "metadata": {},
   "outputs": [],
   "source": [
    "train = matches[matches[\"date\"] < '2021-01-01']\n",
    "test = matches[matches[\"date\"] > '2021-01-01']"
   ]
  },
  {
   "cell_type": "code",
   "execution_count": null,
   "id": "5a319c2b",
   "metadata": {},
   "outputs": [],
   "source": [
    "print(f\"Number of rows in training set: {len(train)}\")\n",
    "print(f\"Number of rows in test set: {len(test)}\")"
   ]
  },
  {
   "cell_type": "code",
   "execution_count": null,
   "id": "467deb7e",
   "metadata": {},
   "outputs": [],
   "source": [
    "round_columns = [col for col in matches.columns if \"_count\" in col]\n",
    "predictors = [\"venue_code\", \"opp_code\", \"match_importance\"] + new_cols + round_columns + ['h2h_wins', 'h2h_losses', 'h2h_draws', 'win_streak', 'loss_streak']"
   ]
  },
  {
   "cell_type": "code",
   "execution_count": null,
   "id": "05e365da",
   "metadata": {},
   "outputs": [],
   "source": [
    "smote = SMOTE(random_state=1)\n",
    "X_res, y_res = smote.fit_resample(train[predictors], train[\"target\"])"
   ]
  },
  {
   "cell_type": "code",
   "execution_count": null,
   "id": "b432fcf1",
   "metadata": {},
   "outputs": [],
   "source": [
    "param_dist = {\n",
    "    'n_estimators': [50, 100, 200],\n",
    "    'max_depth': [3, 6, 9],\n",
    "    'learning_rate': [0.01, 0.1, 0.2],\n",
    "    'subsample': [0.8, 0.9, 1.0],\n",
    "    'colsample_bytree': [0.8, 0.9, 1.0],\n",
    "}"
   ]
  },
  {
   "cell_type": "code",
   "execution_count": null,
   "id": "9cc5a2ed",
   "metadata": {},
   "outputs": [],
   "source": [
    "xgb = XGBClassifier(random_state=1)\n",
    "rs = RandomizedSearchCV(xgb, param_distributions=param_dist, n_iter=50, scoring='accuracy', cv=5, random_state=1, n_jobs=-1)\n",
    "rs.fit(X_res, y_res)"
   ]
  },
  {
   "cell_type": "code",
   "execution_count": null,
   "id": "640bf9c4",
   "metadata": {},
   "outputs": [],
   "source": [
    "best_model = rs.best_estimator_"
   ]
  },
  {
   "cell_type": "code",
   "execution_count": null,
   "id": "5a933267",
   "metadata": {},
   "outputs": [],
   "source": [
    "cv_scores = cross_val_score(best_model, X_res, y_res, cv=5, scoring='accuracy')\n",
    "print(f'Cross-validated accuracy scores: {cv_scores}')\n",
    "print(f'Mean accuracy: {cv_scores.mean()}')"
   ]
  },
  {
   "cell_type": "code",
   "execution_count": null,
   "id": "ea9366c1",
   "metadata": {},
   "outputs": [],
   "source": [
    "preds = best_model.predict(test[predictors])\n",
    "pred_probs = best_model.predict_proba(test[predictors])"
   ]
  },
  {
   "cell_type": "code",
   "execution_count": null,
   "id": "d0766227",
   "metadata": {
    "lines_to_next_cell": 1
   },
   "outputs": [],
   "source": [
    "acc = accuracy_score(test[\"target\"], preds)\n",
    "precision = precision_score(test[\"target\"], preds)\n",
    "cm = confusion_matrix(test[\"target\"], preds)\n",
    "combined = pd.DataFrame(dict(actual_result=test[\"target\"], predicted_result=preds, win_prob=pred_probs[:, 1]), index=test.index)\n",
    "matches = matches.sort_values(\"date\")\n",
    "matches.to_csv(\"matches_rolling.csv\", index=False)\n",
    "combined = combined.merge(matches[[\"date\", \"team\", \"opponent\", \"result\"]], left_index=True, right_index=True)"
   ]
  },
  {
   "cell_type": "code",
   "execution_count": null,
   "id": "68922fa8",
   "metadata": {
    "lines_to_next_cell": 1
   },
   "outputs": [],
   "source": [
    "class MissingDict(dict):\n",
    "    __missing__ = lambda self, key: key"
   ]
  },
  {
   "cell_type": "code",
   "execution_count": null,
   "id": "63e45ada",
   "metadata": {},
   "outputs": [],
   "source": [
    "country_values = {\n",
    "    \"Belgium\": \"be Belgium\",\n",
    "    \"Sweden\": \"se Sweden\",\n",
    "    \"Netherlands\": \"nl Netherlands\",\n",
    "    \"France\": \"fr France\",\n",
    "    \"Denmark\": \"dk Denmark\",\n",
    "    \"Italy\": \"it Italy\",\n",
    "    \"Czechia\": \"cz Czechia\",\n",
    "    \"Turkiye\": \"tr Türkiye\",\n",
    "    \"Portugal\": \"pt Portugal\",\n",
    "    \"Germany\": \"de Germany\",\n",
    "    \"Romania\": \"ro Romania\",\n",
    "    \"England\": \"eng England\",\n",
    "    \"Norway\": \"no Norway\",\n",
    "    \"Slovenia\": \"si Slovenia\",\n",
    "    \"FR-Yugoslavia\": \"rs Yugoslavia\",\n",
    "    \"Spain\": \"es Spain\",\n",
    "    \"Greece\": \"gr Greece\",\n",
    "    \"Russia\": \"ru Russia\",\n",
    "    \"Switzerland\": \"ch Switzerland\",\n",
    "    \"Croatia\": \"hr Croatia\",\n",
    "    \"Bulgaria\": \"bg Bulgaria\",\n",
    "    \"Latvia\": \"lv Latvia\",\n",
    "    \"Poland\": \"pl Poland\",\n",
    "    \"Austria\": \"at Austria\",\n",
    "    \"Republic-of-Ireland\": \"ie Rep. of Ireland\",\n",
    "    \"Ukraine\": \"ua Ukraine\",\n",
    "    \"Wales\": \"wls Wales\",\n",
    "    \"Albania\": \"al Albania\",\n",
    "    \"Slovakia\": \"sk Slovakia\",\n",
    "    \"Northern-Ireland\": \"nir Northern Ireland\",\n",
    "    \"Iceland\": \"is Iceland\",\n",
    "    \"Hungary\": \"hu Hungary\",\n",
    "    \"Finland\": \"fi Finland\",\n",
    "    \"North-Macedonia\": \"mk N. Macedonia\",\n",
    "    \"Scotland\": \"sct Scotland\"\n",
    "}"
   ]
  },
  {
   "cell_type": "code",
   "execution_count": null,
   "id": "e3785171",
   "metadata": {},
   "outputs": [],
   "source": [
    "mapping = MissingDict(**country_values)\n",
    "combined[\"team_code\"] = combined[\"team\"].map(mapping)\n",
    "merged = combined.merge(combined, left_on=[\"date\", \"team_code\"], right_on=[\"date\", \"opponent\"])\n",
    "merged.to_csv(\"predictions_euro_2021.csv\", index=False)\n",
    "print(f\"Accuracy: {acc}\")\n",
    "print(f\"Precision: {precision}\")\n",
    "print(\"Confusion Matrix:\")\n",
    "print(cm)"
   ]
  }
 ],
 "metadata": {
  "jupytext": {
   "cell_metadata_filter": "-all",
   "main_language": "python",
   "notebook_metadata_filter": "-all"
  }
 },
 "nbformat": 4,
 "nbformat_minor": 5
}
