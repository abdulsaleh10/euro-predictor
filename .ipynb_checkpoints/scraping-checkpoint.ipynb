{
 "cells": [
  {
   "cell_type": "code",
   "execution_count": null,
   "id": "00f15a11",
   "metadata": {},
   "outputs": [],
   "source": [
    "import requests\n",
    "from bs4 import BeautifulSoup\n",
    "import pandas as pd\n",
    "from io import StringIO"
   ]
  },
  {
   "cell_type": "code",
   "execution_count": null,
   "id": "15b690a6",
   "metadata": {},
   "outputs": [],
   "source": [
    "years = [2021]+ list(range(2016, 1999, -4))\n",
    "print(years)\n",
    "standings_url = \"https://fbref.com/en/comps/676/2021/2021-European-Championship-Stats\"\n",
    "all_matches = []"
   ]
  },
  {
   "cell_type": "code",
   "execution_count": null,
   "id": "0791edbd",
   "metadata": {},
   "outputs": [],
   "source": [
    "import time\n",
    "for year in years:\n",
    "    data = requests.get(standings_url)\n",
    "    soup = BeautifulSoup(data.text, features=\"html.parser\")\n",
    "    selector = f'table#results{year}6760_overall'\n",
    "    standings_table = soup.select(selector)[0]\n",
    "\n",
    "    links = [l.get(\"href\") for l in standings_table.find_all('a')]\n",
    "    links = [l for l in links if '/squads/' in l]\n",
    "    team_urls = [f\"https://fbref.com{l}\" for l in links]\n",
    "\n",
    "    if (year != 2000) :\n",
    "        previous_season = soup.select(\"a.prev\")[0].get(\"href\")\n",
    "        standings_url = f\"https://fbref.com{previous_season}\"\n",
    "\n",
    "    for team_url in team_urls:\n",
    "        team_name = team_url.split(\"/\")[-1].replace(\"-Men-Stats\", \"\")\n",
    "        \n",
    "        data = requests.get(team_url)\n",
    "        matches = pd.read_html(StringIO(data.text), match=\"Scores & Fixtures\")[0]\n",
    "\n",
    "        soup = BeautifulSoup(data.text, features=\"html.parser\")\n",
    "        links = [l.get(\"href\") for l in soup.find_all('a')]\n",
    "        links = [l for l in links if l and '/all_comps/shooting/' in l]\n",
    "        data = requests.get(f\"https://fbref.com{links[0]}\")\n",
    "        \n",
    "        try:\n",
    "            shooting = pd.read_html(StringIO(data.text), match=\"Shooting\")[0]\n",
    "            shooting.columns = shooting.columns.droplevel()\n",
    "            team_data = matches.merge(shooting[[\"Date\", \"Sh\", \"SoT\", \"Dist\", \"PK\", \"PKatt\"]], on=\"Date\")\n",
    "        except ValueError:\n",
    "            continue\n",
    "            \n",
    "        team_data = team_data[team_data[\"Comp\"] == \"UEFA Euro\"]\n",
    "        team_data[\"Season\"] = year\n",
    "        team_data[\"Team\"] = team_name\n",
    "        all_matches.append(team_data)\n",
    "        time.sleep(10)\n",
    "        print(team_name)\n",
    "        print(year)\n",
    "        print(\"Waiting\")"
   ]
  },
  {
   "cell_type": "code",
   "execution_count": null,
   "id": "a9b9263c",
   "metadata": {},
   "outputs": [],
   "source": [
    "match_df = pd.concat(all_matches)\n",
    "match_df.columns = [c.lower() for c in match_df.columns]\n",
    "match_df.to_csv(\"matches.csv\")"
   ]
  }
 ],
 "metadata": {
  "jupytext": {
   "cell_metadata_filter": "-all",
   "main_language": "python",
   "notebook_metadata_filter": "-all"
  }
 },
 "nbformat": 4,
 "nbformat_minor": 5
}
